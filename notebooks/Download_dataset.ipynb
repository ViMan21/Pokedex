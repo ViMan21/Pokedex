{
 "cells": [
  {
   "cell_type": "code",
   "execution_count": 1,
   "metadata": {},
   "outputs": [],
   "source": [
    "import pandas as pd\n",
    "import glob\n",
    "from shutil import copyfile\n",
    "import os\n",
    "import wget\n",
    "from google.cloud import storage"
   ]
  },
  {
   "cell_type": "code",
   "execution_count": 2,
   "metadata": {},
   "outputs": [],
   "source": [
    "data = []"
   ]
  },
  {
   "cell_type": "code",
   "execution_count": 3,
   "metadata": {},
   "outputs": [],
   "source": [
    "for i in range(1,4):\n",
    "    dataFrame = pd.read_csv('export_data-pokemon_151_dataset-2019-12-15T04_20_15.555Z_image_classification_{}.csv'.format(i), index_col=None, header=None)\n",
    "    data.append(dataFrame)"
   ]
  },
  {
   "cell_type": "code",
   "execution_count": 4,
   "metadata": {},
   "outputs": [
    {
     "data": {
      "text/plain": [
       "[          0                                      1           2\n",
       " 0     TRAIN  gs://poke-151/Weepinbell/00000157.png  Weepinbell\n",
       " 1     TRAIN    gs://poke-151/Nidorino/00000259.png    Nidorino\n",
       " 2     TRAIN     gs://poke-151/Dratini/00000003.png     Dratini\n",
       " 3     TRAIN      gs://poke-151/Meowth/00000226.jpg      Meowth\n",
       " 4     TRAIN   gs://poke-151/Sandshrew/00000152.png   Sandshrew\n",
       " ...     ...                                    ...         ...\n",
       " 8804   TEST     gs://poke-151/Persian/00000031.jpg     Persian\n",
       " 8805  TRAIN    gs://poke-151/Clefairy/00000156.jpg    Clefairy\n",
       " 8806  TRAIN     gs://poke-151/Poliwag/00000020.jpg     Poliwag\n",
       " 8807  TRAIN  gs://poke-151/Aerodactyl/00000278.png  Aerodactyl\n",
       " 8808  TRAIN  gs://poke-151/Kangaskhan/00000211.jpg  Kangaskhan\n",
       " \n",
       " [8809 rows x 3 columns],\n",
       "                0                                      1           2\n",
       " 0          TRAIN     gs://poke-151/Kadabra/00000244.png     Kadabra\n",
       " 1     VALIDATION       gs://poke-151/Hypno/00000201.png       Hypno\n",
       " 2          TRAIN   gs://poke-151/Bulbasaur/00000109.jpg         NaN\n",
       " 3          TRAIN     gs://poke-151/Diglett/00000149.jpg     Diglett\n",
       " 4          TRAIN  gs://poke-151/Electabuzz/00000098.jpg  Electabuzz\n",
       " ...          ...                                    ...         ...\n",
       " 8751  VALIDATION    gs://poke-151/Raticate/00000086.jpg    Raticate\n",
       " 8752       TRAIN       gs://poke-151/Doduo/00000190.jpg       Doduo\n",
       " 8753       TRAIN    gs://poke-151/Gyarados/00000245.jpg    Gyarados\n",
       " 8754       TRAIN    gs://poke-151/Venusaur/00000154.jpg    Venusaur\n",
       " 8755       TRAIN      gs://poke-151/Grimer/00000154.jpg      Grimer\n",
       " \n",
       " [8756 rows x 3 columns],\n",
       "                0                                     1          2\n",
       " 0          TRAIN      gs://poke-151/Ekans/00000021.jpg      Ekans\n",
       " 1          TRAIN    gs://poke-151/Omastar/00000010.jpg    Omastar\n",
       " 2          TRAIN     gs://poke-151/Magmar/00000176.jpg     Magmar\n",
       " 3          TRAIN    gs://poke-151/Pidgeot/00000251.jpg    Pidgeot\n",
       " 4          TRAIN    gs://poke-151/Omanyte/00000068.png    Omanyte\n",
       " ...          ...                                   ...        ...\n",
       " 8760       TRAIN    gs://poke-151/Metapod/00000118.jpg    Metapod\n",
       " 8761  VALIDATION    gs://poke-151/Slowbro/00000289.jpg    Slowbro\n",
       " 8762        TEST      gs://poke-151/Gloom/00000051.png        NaN\n",
       " 8763       TRAIN    gs://poke-151/Starmie/00000085.png    Starmie\n",
       " 8764       TRAIN  gs://poke-151/Poliwrath/00000010.png  Poliwrath\n",
       " \n",
       " [8765 rows x 3 columns]]"
      ]
     },
     "execution_count": 4,
     "metadata": {},
     "output_type": "execute_result"
    }
   ],
   "source": [
    "data"
   ]
  },
  {
   "cell_type": "code",
   "execution_count": 5,
   "metadata": {},
   "outputs": [],
   "source": [
    "df = pd.concat(data, ignore_index=True, sort=True)"
   ]
  },
  {
   "cell_type": "code",
   "execution_count": 6,
   "metadata": {},
   "outputs": [],
   "source": [
    "urls = df[1]\n"
   ]
  },
  {
   "cell_type": "code",
   "execution_count": 7,
   "metadata": {},
   "outputs": [],
   "source": [
    "files = urls.str.replace('gs://poke-151', '')"
   ]
  },
  {
   "cell_type": "code",
   "execution_count": 8,
   "metadata": {},
   "outputs": [
    {
     "data": {
      "text/plain": [
       "0        gs://poke-151/Weepinbell/00000157.png\n",
       "1          gs://poke-151/Nidorino/00000259.png\n",
       "2           gs://poke-151/Dratini/00000003.png\n",
       "3            gs://poke-151/Meowth/00000226.jpg\n",
       "4         gs://poke-151/Sandshrew/00000152.png\n",
       "                         ...                  \n",
       "26325       gs://poke-151/Metapod/00000118.jpg\n",
       "26326       gs://poke-151/Slowbro/00000289.jpg\n",
       "26327         gs://poke-151/Gloom/00000051.png\n",
       "26328       gs://poke-151/Starmie/00000085.png\n",
       "26329     gs://poke-151/Poliwrath/00000010.png\n",
       "Name: 1, Length: 26330, dtype: object"
      ]
     },
     "execution_count": 8,
     "metadata": {},
     "output_type": "execute_result"
    }
   ],
   "source": [
    "urls"
   ]
  },
  {
   "cell_type": "code",
   "execution_count": 9,
   "metadata": {},
   "outputs": [
    {
     "data": {
      "text/plain": [
       "['Bulbasaur', 'Ivysaur', 'Venusaur', 'Charmander', 'Charmeleon']"
      ]
     },
     "execution_count": 9,
     "metadata": {},
     "output_type": "execute_result"
    }
   ],
   "source": [
    "pokemonList = [line.rstrip('\\n') for line in open(\"storage/labels.txt\")]\n",
    "    \n",
    "pokemonList[:5]"
   ]
  },
  {
   "cell_type": "code",
   "execution_count": null,
   "metadata": {},
   "outputs": [],
   "source": [
    "path = \"storage/data/poke/\"\n",
    "for pokemon in pokemonList:\n",
    "    folder = pokemon\n",
    "    file = pokemon + '.txt'\n",
    "    dest = path + str(folder)\n",
    "    os.mkdir(dest)"
   ]
  },
  {
   "cell_type": "code",
   "execution_count": 10,
   "metadata": {},
   "outputs": [],
   "source": [
    "from google.cloud import storage"
   ]
  },
  {
   "cell_type": "code",
   "execution_count": 11,
   "metadata": {},
   "outputs": [],
   "source": [
    "def download_blob(bucket_name, source_blob_name, destination_file_name):\n",
    "    \"\"\"Downloads a blob from the bucket.\"\"\"\n",
    "    # bucket_name = \"your-bucket-name\"\n",
    "    # source_blob_name = \"storage-object-name\"\n",
    "    # destination_file_name = \"local/path/to/file\"\n",
    "\n",
    "    storage_client = storage.Client()\n",
    "\n",
    "    bucket = storage_client.bucket(bucket_name)\n",
    "    blob = bucket.blob(source_blob_name)\n",
    "    blob.download_to_filename(destination_file_name)\n",
    "\n",
    "    print(\n",
    "        \"Blob {} downloaded to {}.\".format(\n",
    "            source_blob_name, destination_file_name\n",
    "        )\n",
    "    )"
   ]
  },
  {
   "cell_type": "code",
   "execution_count": 12,
   "metadata": {},
   "outputs": [],
   "source": [
    "#export GOOGLE_APPLICATION_CREDENTIALS=\"Pokedex-eec86e8f9926.json\"\n",
    "from google.oauth2 import service_account"
   ]
  },
  {
   "cell_type": "code",
   "execution_count": 13,
   "metadata": {},
   "outputs": [],
   "source": [
    "credentials = service_account.Credentials.from_service_account_file('Pokedex-eec86e8f9926.json')"
   ]
  },
  {
   "cell_type": "code",
   "execution_count": 14,
   "metadata": {},
   "outputs": [],
   "source": [
    "os.environ[\"GOOGLE_APPLICATION_CREDENTIALS\"]=\"Pokedex-eec86e8f9926.json\""
   ]
  },
  {
   "cell_type": "code",
   "execution_count": 17,
   "metadata": {},
   "outputs": [],
   "source": [
    "from IPython.display import clear_output"
   ]
  },
  {
   "cell_type": "code",
   "execution_count": 21,
   "metadata": {},
   "outputs": [
    {
     "name": "stdout",
     "output_type": "stream",
     "text": [
      "Blob Poliwrath/00000010.png downloaded to storage/data/poke/Poliwrath/00000010.png.\n"
     ]
    }
   ],
   "source": [
    "counter = 0\n",
    "for url in urls:\n",
    "    file = url.replace('gs://poke-151/', '')\n",
    "    #url = 'https://storage.cloud.google.com/poke-151' + file\n",
    "    #wget.download(url, 'storage/data/poke{}'.format(file))\n",
    "    clear_output()\n",
    "    counter += 1\n",
    "    #print(\"Downloading image {}: {}\".format(counter, file))\n",
    "    download_blob('poke-151', file, 'storage/data/poke/{}'.format(file))"
   ]
  },
  {
   "cell_type": "code",
   "execution_count": 15,
   "metadata": {},
   "outputs": [
    {
     "data": {
      "text/plain": [
       "environ{'PATH': '/usr/local/nvidia/bin:/usr/local/cuda/bin:/usr/local/sbin:/usr/local/bin:/usr/sbin:/usr/bin:/sbin:/bin',\n",
       "        'HOSTNAME': '5420e74b9bbf',\n",
       "        'PS_HOME': '/notebooks',\n",
       "        'PS_ARTIFACTS': '/notebooks',\n",
       "        'PS_JOBSPACE': '/storage',\n",
       "        'PS_DATASETS': '/datasets',\n",
       "        'PS_JOB_RUNNER': '1',\n",
       "        'PS_DOCKER_AGENT': '3065366230653538',\n",
       "        'PS_HOST_PUBLIC_IP_ADDRESS': '184.105.225.36',\n",
       "        'PS_HOST_PRIVATE_IP_ADDRESS': '10.30.148.76',\n",
       "        'PS_HOSTNAME': 'pscgo0jaz',\n",
       "        'PS_JOB_ID': 'j25onxr9m5exq',\n",
       "        'PS_NOTEBOOK_HANDLE': 'nbu27ldi',\n",
       "        'CUDA_VERSION': '10.0.130',\n",
       "        'CUDA_PKG_VERSION': '10-0=10.0.130-1',\n",
       "        'LD_LIBRARY_PATH': '/usr/local/cuda/extras/CUPTI/lib64:/usr/local/cuda/lib64:/usr/local/nvidia/lib:/usr/local/nvidia/lib64',\n",
       "        'NVIDIA_VISIBLE_DEVICES': 'all',\n",
       "        'NVIDIA_DRIVER_CAPABILITIES': 'compute,utility',\n",
       "        'NVIDIA_REQUIRE_CUDA': 'cuda>=10.0 brand=tesla,driver>=384,driver<385 brand=tesla,driver>=410,driver<411',\n",
       "        'LANG': 'C.UTF-8',\n",
       "        'HOME': '/root',\n",
       "        'KERNEL_LAUNCH_TIMEOUT': '40',\n",
       "        'JPY_PARENT_PID': '6',\n",
       "        'TERM': 'xterm-color',\n",
       "        'CLICOLOR': '1',\n",
       "        'PAGER': 'cat',\n",
       "        'GIT_PAGER': 'cat',\n",
       "        'MPLBACKEND': 'module://ipykernel.pylab.backend_inline',\n",
       "        'GOOGLE_APPLICATION_CREDENTIALS': 'Pokedex-eec86e8f9926.json'}"
      ]
     },
     "execution_count": 15,
     "metadata": {},
     "output_type": "execute_result"
    }
   ],
   "source": [
    "os.environ"
   ]
  },
  {
   "cell_type": "code",
   "execution_count": null,
   "metadata": {},
   "outputs": [],
   "source": []
  }
 ],
 "metadata": {
  "kernelspec": {
   "display_name": "Python 3",
   "language": "python",
   "name": "python3"
  },
  "language_info": {
   "codemirror_mode": {
    "name": "ipython",
    "version": 3
   },
   "file_extension": ".py",
   "mimetype": "text/x-python",
   "name": "python",
   "nbconvert_exporter": "python",
   "pygments_lexer": "ipython3",
   "version": "3.6.8"
  }
 },
 "nbformat": 4,
 "nbformat_minor": 4
}
